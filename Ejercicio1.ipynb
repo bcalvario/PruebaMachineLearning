{
 "cells": [
  {
   "cell_type": "markdown",
   "metadata": {},
   "source": [
    "# Pregunta 1: Regresión lineal\n",
    "* Utiliza la base de datos Pregunta1.csv para construir un código reutilizable que; primero filtre las filas cuya columna Publisher sea igual a “Nintendo”. Con esta sub-base calcule la regresion de la columna Global_Sales como variable objetivo a predecir ‘Y’ contra las demas columnas numéricas (es decir de Action a Strategy). Después se deberá obtener la serie de predicciónes de “Global_Sales” Y^ y con esta calucular el error medio absoluto.\n",
    "\n",
    "Por favor muestra el valor del Error medio absoluto aqui: 38.05918286986965.\n",
    "\n",
    "* Utiliza el codigo anterior ( o modifícalo si asi lo consideras) para correr ese mismo ejercicio para cada uno de los niveles de la variable “Publisher”. En este ejercicio lo que buscamos es una lista de 5 elementos numericos donde cada uno contenga el valor del error medio absoluto del la venta del Publisher “i” vs la prediccion de esa venta por elmodelo “i”.\n",
    "\n",
    "Por favor muestra el diccionario aqui: \n",
    "\n",
    "{'Activision': 16.095832298653903,\n",
    " 'Nintendo': 38.05918286986965,\n",
    " 'Electronic Arts': 25.341617283393997,\n",
    " 'Sony Computer Entertainment': 20.229998446907125,\n",
    " 'Ubisoft': 16.184825864930872}"
   ]
  },
  {
   "cell_type": "code",
   "execution_count": 40,
   "metadata": {},
   "outputs": [],
   "source": [
    "import pandas as pd\n",
    "from sklearn.metrics import r2_score\n",
    "from sklearn.metrics import mean_absolute_error\n",
    "from sklearn.linear_model import LinearRegression\n",
    "from sklearn.model_selection import train_test_split"
   ]
  },
  {
   "cell_type": "code",
   "execution_count": 41,
   "metadata": {},
   "outputs": [],
   "source": [
    "''' Función que hace una regresión lineal multiple, dado un editor de la base de datos\n",
    "    calcula el error medio absoluto'''\n",
    "def linear_regression(df : pd.DataFrame, publisher : str) -> float:\n",
    "    subdf = df[df['Publisher'].str.contains(publisher)]\n",
    "    x = subdf.drop(['Global_Sales', 'Year', 'Publisher'],axis=1)\n",
    "    y = subdf['Global_Sales']\n",
    "    x_train, x_test, y_train, y_test = train_test_split(x, y, test_size = 0.2, random_state = 42)\n",
    "    LR = LinearRegression()\n",
    "    LR.fit(x_train,y_train)\n",
    "    y_prediction =  LR.predict(x_test)\n",
    "    score=r2_score(y_test,y_prediction)\n",
    "    print('score: ',score)\n",
    "    y_prediction =  LR.predict(x_test)\n",
    "    mae = mean_absolute_error(y_test, y_prediction)\n",
    "    print('mean absolute error:', mae)\n",
    "    return(mae)"
   ]
  },
  {
   "cell_type": "code",
   "execution_count": 42,
   "metadata": {},
   "outputs": [],
   "source": [
    "df = pd.read_csv('Base_de_Datos.csv')\n",
    "publisher_names = df['Publisher'].unique()"
   ]
  },
  {
   "cell_type": "code",
   "execution_count": 43,
   "metadata": {},
   "outputs": [
    {
     "name": "stdout",
     "output_type": "stream",
     "text": [
      "Publisher:  Activision\n",
      "score:  -0.134114135333673\n",
      "mean absolute error: 16.095832298653903\n",
      "\n",
      "Publisher:  Nintendo\n",
      "score:  -0.8112724112557914\n",
      "mean absolute error: 38.05918286986965\n",
      "\n",
      "Publisher:  Electronic Arts\n",
      "score:  0.19788298463365783\n",
      "mean absolute error: 25.341617283393997\n",
      "\n",
      "Publisher:  Sony Computer Entertainment\n",
      "score:  -2.549793217347143\n",
      "mean absolute error: 20.229998446907125\n",
      "\n",
      "Publisher:  Ubisoft\n",
      "score:  -0.6650311955720141\n",
      "mean absolute error: 16.184825864930872\n",
      "\n"
     ]
    }
   ],
   "source": [
    "error_medio_absoluto = {}\n",
    "for publisher in publisher_names:\n",
    "    print('Publisher: ', publisher)\n",
    "    aux = linear_regression(df, publisher)\n",
    "    print()\n",
    "    error_medio_absoluto[publisher] = (aux)"
   ]
  },
  {
   "cell_type": "code",
   "execution_count": 44,
   "metadata": {},
   "outputs": [
    {
     "data": {
      "text/plain": [
       "{'Activision': 16.095832298653903,\n",
       " 'Nintendo': 38.05918286986965,\n",
       " 'Electronic Arts': 25.341617283393997,\n",
       " 'Sony Computer Entertainment': 20.229998446907125,\n",
       " 'Ubisoft': 16.184825864930872}"
      ]
     },
     "execution_count": 44,
     "metadata": {},
     "output_type": "execute_result"
    }
   ],
   "source": [
    "error_medio_absoluto"
   ]
  }
 ],
 "metadata": {
  "interpreter": {
   "hash": "63fd5069d213b44bf678585dea6b12cceca9941eaf7f819626cde1f2670de90d"
  },
  "kernelspec": {
   "display_name": "Python 3.9.4 64-bit",
   "language": "python",
   "name": "python3"
  },
  "language_info": {
   "codemirror_mode": {
    "name": "ipython",
    "version": 3
   },
   "file_extension": ".py",
   "mimetype": "text/x-python",
   "name": "python",
   "nbconvert_exporter": "python",
   "pygments_lexer": "ipython3",
   "version": "3.9.4"
  },
  "orig_nbformat": 4
 },
 "nbformat": 4,
 "nbformat_minor": 2
}
