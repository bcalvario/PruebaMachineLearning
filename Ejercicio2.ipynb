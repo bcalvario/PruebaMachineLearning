{
 "cells": [
  {
   "cell_type": "markdown",
   "metadata": {},
   "source": [
    "# Pregunta 2 : Red Neuronal\n",
    "Por favor para esta pregunta considera unicamente las filas de la tabla cuyo Publisher sea Nintendo.\n",
    "Utiliza esta base y tensorflow / pythorch (puedes tambien usar API’s como keras para interactuar con ellos) para construir una red neuronal con una única capa oculta totalmente conexa (de 10 neuronas) . La red neuronal tendra que predecir el valor de la variable Global_Sales para cada año dados las columnas: (Action Platform Adsventure Puzzle Shooter Misc Sports Racing Simulation Fighting Role-Playing Strategy)\n",
    "\n",
    "Ajusta el modelo y obten Y. Despues calcula el error absoluto promedio de este modelo.\n",
    "\n",
    "Por favor escribe el error absoluto promedio del modelo aqui:"
   ]
  },
  {
   "cell_type": "code",
   "execution_count": 46,
   "metadata": {},
   "outputs": [],
   "source": [
    "import pandas as pd\n",
    "import tensorflow as tf\n",
    "from tensorflow import keras\n",
    "from tensorflow.keras import layers\n",
    "from sklearn.model_selection import train_test_split"
   ]
  },
  {
   "cell_type": "code",
   "execution_count": 47,
   "metadata": {},
   "outputs": [
    {
     "data": {
      "text/plain": [
       "<keras.losses.MeanAbsoluteError at 0x211fbdb6fa0>"
      ]
     },
     "execution_count": 47,
     "metadata": {},
     "output_type": "execute_result"
    }
   ],
   "source": [
    "tf.keras.losses.MeanAbsoluteError(\n",
    "    reduction = 'auto', name = 'mean_absolute_error'\n",
    ")"
   ]
  },
  {
   "cell_type": "code",
   "execution_count": 48,
   "metadata": {},
   "outputs": [],
   "source": [
    "''' Función que crea una red neuronal, dada la base de datos y un editor \n",
    "    calcula el error absoluto promedio '''\n",
    "def neural_network(df : pd.DataFrame, pusblisher : str) -> float:\n",
    "    subdf = df[df['Publisher'].str.contains(pusblisher)]\n",
    "    x = subdf.drop(['Global_Sales', 'Year', 'Publisher'],axis=1)\n",
    "    y = subdf['Global_Sales']\n",
    "    x_train, x_test, y_train, y_test = train_test_split(x, y, test_size = 0.2, random_state = 42)\n",
    "    model = keras.Sequential([\n",
    "    layers.Dense(units = 10, activation = 'relu', input_shape = [12]),\n",
    "    layers.Dense(units = 1)\n",
    "    ])\n",
    "    optimizer = tf.keras.optimizers.RMSprop(learning_rate = 0.1)\n",
    "    model.compile(loss = 'mae', optimizer = optimizer)\n",
    "    model.fit(x_train, y_train, verbose = 0)\n",
    "    y_pred = model.predict(x_test)\n",
    "    mae = tf.keras.losses.MeanAbsoluteError()\n",
    "    return (mae(y_test, y_pred).numpy())"
   ]
  },
  {
   "cell_type": "code",
   "execution_count": 49,
   "metadata": {},
   "outputs": [],
   "source": [
    "df = pd.read_csv('Base_de_Datos.csv')"
   ]
  },
  {
   "cell_type": "code",
   "execution_count": 50,
   "metadata": {},
   "outputs": [
    {
     "data": {
      "text/plain": [
       "33.041405"
      ]
     },
     "execution_count": 50,
     "metadata": {},
     "output_type": "execute_result"
    }
   ],
   "source": [
    "neural_network(df, 'Nintendo')"
   ]
  }
 ],
 "metadata": {
  "interpreter": {
   "hash": "63fd5069d213b44bf678585dea6b12cceca9941eaf7f819626cde1f2670de90d"
  },
  "kernelspec": {
   "display_name": "Python 3.9.4 64-bit",
   "language": "python",
   "name": "python3"
  },
  "language_info": {
   "codemirror_mode": {
    "name": "ipython",
    "version": 3
   },
   "file_extension": ".py",
   "mimetype": "text/x-python",
   "name": "python",
   "nbconvert_exporter": "python",
   "pygments_lexer": "ipython3",
   "version": "3.9.4"
  },
  "orig_nbformat": 4
 },
 "nbformat": 4,
 "nbformat_minor": 2
}
