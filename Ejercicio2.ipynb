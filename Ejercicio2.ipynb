{
 "cells": [
  {
   "cell_type": "markdown",
   "metadata": {},
   "source": [
    "# Pregunta 2 : Red Neuronal"
   ]
  },
  {
   "cell_type": "code",
   "execution_count": 52,
   "metadata": {},
   "outputs": [],
   "source": [
    "import numpy as np\n",
    "import pandas as pd\n",
    "import tensorflow as tf\n",
    "from matplotlib import pyplot as plt\n",
    "from sklearn.model_selection import train_test_split\n",
    "from tensorflow.python.keras.metrics import Metric"
   ]
  },
  {
   "cell_type": "code",
   "execution_count": 53,
   "metadata": {},
   "outputs": [],
   "source": [
    "df = pd.read_csv(\"Base_de_Datos.csv\")"
   ]
  },
  {
   "cell_type": "code",
   "execution_count": 54,
   "metadata": {},
   "outputs": [],
   "source": [
    "subdf = df[df['Publisher'].str.contains('Nintendo')]\n",
    "x = subdf.drop(['Global_Sales', 'Year', 'Publisher'],axis=1)\n",
    "y = subdf['Global_Sales']"
   ]
  },
  {
   "cell_type": "code",
   "execution_count": 55,
   "metadata": {},
   "outputs": [],
   "source": [
    "tf.keras.losses.MeanAbsoluteError(\n",
    "    reduction=\"auto\", name=\"mean_absolute_error\"\n",
    ")\n",
    "\n",
    "def neural_network(subdf, x, y):\n",
    "    x_train, x_test, y_train, y_test = train_test_split(x, y)\n",
    "    capa_oculta = tf.keras.layers.Dense(units = 10)\n",
    "    salida = tf.keras.layers.Dense(units = 1)\n",
    "    model = tf.keras.Sequential([capa_oculta, salida])\n",
    "    model.compile(\n",
    "    optimizer = tf.keras.optimizers.Adam(0.1),\n",
    "    loss = 'mean_squared_error'\n",
    "    )\n",
    "    model.fit(x_train.values, y_train.values)\n",
    "    y_pred = model.predict(x_test)\n",
    "    mae = tf.keras.losses.MeanAbsoluteError()\n",
    "    mae(y_test, y_pred).numpy()"
   ]
  },
  {
   "cell_type": "code",
   "execution_count": 59,
   "metadata": {},
   "outputs": [],
   "source": [
    "x_train, x_test, y_train, y_test = train_test_split(x, y, test_size = 0.2, random_state = 42)"
   ]
  }
 ],
 "metadata": {
  "interpreter": {
   "hash": "63fd5069d213b44bf678585dea6b12cceca9941eaf7f819626cde1f2670de90d"
  },
  "kernelspec": {
   "display_name": "Python 3.9.4 64-bit",
   "language": "python",
   "name": "python3"
  },
  "language_info": {
   "codemirror_mode": {
    "name": "ipython",
    "version": 3
   },
   "file_extension": ".py",
   "mimetype": "text/x-python",
   "name": "python",
   "nbconvert_exporter": "python",
   "pygments_lexer": "ipython3",
   "version": "3.9.4"
  },
  "orig_nbformat": 4
 },
 "nbformat": 4,
 "nbformat_minor": 2
}
