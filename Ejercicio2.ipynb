{
 "cells": [
  {
   "cell_type": "markdown",
   "metadata": {},
   "source": [
    "# Pregunta 2 : Red Neuronal\n",
    "Por favor para esta pregunta considera unicamente las filas de la tabla cuyo Publisher sea Nintendo.\n",
    "Utiliza esta base y tensorflow / pythorch (puedes tambien usar API’s como keras para interactuar con ellos) para construir una red neuronal con una única capa oculta totalmente conexa (de 10 neuronas) . La red neuronal tendra que predecir el valor de la variable Global_Sales para cada año dados las columnas: (Action Platform Adsventure Puzzle Shooter Misc Sports Racing Simulation Fighting Role-Playing Strategy)\n",
    "\n",
    "Ajusta el modelo y obten Y. Despues calcula el error absoluto promedio de este modelo.\n",
    "\n",
    "Por favor escribe el error absoluto promedio del modelo aqui:"
   ]
  },
  {
   "cell_type": "code",
   "execution_count": 243,
   "metadata": {},
   "outputs": [],
   "source": [
    "import pandas as pd\n",
    "import tensorflow as tf\n",
    "from tensorflow import keras\n",
    "from tensorflow.keras import layers\n",
    "from sklearn.model_selection import train_test_split"
   ]
  },
  {
   "cell_type": "code",
   "execution_count": 244,
   "metadata": {},
   "outputs": [],
   "source": [
    "df = pd.read_csv(\"Base_de_Datos.csv\")\n",
    "subdf = df[df['Publisher'].str.contains('Nintendo')]\n",
    "x = subdf.drop(['Global_Sales', 'Year', 'Publisher'],axis=1)\n",
    "y = subdf['Global_Sales']"
   ]
  },
  {
   "cell_type": "code",
   "execution_count": 245,
   "metadata": {},
   "outputs": [
    {
     "data": {
      "text/plain": [
       "<keras.losses.MeanAbsoluteError at 0x2af7165c370>"
      ]
     },
     "execution_count": 245,
     "metadata": {},
     "output_type": "execute_result"
    }
   ],
   "source": [
    "tf.keras.losses.MeanAbsoluteError(\n",
    "    reduction=\"auto\", name=\"mean_absolute_error\"\n",
    ")"
   ]
  },
  {
   "cell_type": "code",
   "execution_count": 246,
   "metadata": {},
   "outputs": [],
   "source": [
    "def neural_network(x, y):\n",
    "    x_train, x_test, y_train, y_test = train_test_split(x, y, test_size = 0.2, random_state = 42)\n",
    "    model = keras.Sequential([\n",
    "    layers.Dense(units = 10, activation = 'relu', input_shape = [12]),\n",
    "    layers.Dense(units = 1)\n",
    "    ])\n",
    "    optimizer = tf.keras.optimizers.RMSprop(learning_rate = 0.1)\n",
    "    model.compile(loss = 'mae', optimizer = optimizer)\n",
    "    model.fit(x_train, y_train, verbose = 0)\n",
    "    y_pred = model.predict(x_test)\n",
    "    mae = tf.keras.losses.MeanAbsoluteError()\n",
    "    print('mean absolute error: ',mae(y_test, y_pred).numpy())"
   ]
  },
  {
   "cell_type": "code",
   "execution_count": 247,
   "metadata": {},
   "outputs": [
    {
     "name": "stdout",
     "output_type": "stream",
     "text": [
      "mean absolute error:  28.237055\n"
     ]
    }
   ],
   "source": [
    "neural_network(x, y)"
   ]
  },
  {
   "cell_type": "code",
   "execution_count": 248,
   "metadata": {},
   "outputs": [
    {
     "name": "stdout",
     "output_type": "stream",
     "text": [
      "Collecting git+https://github.com/tensorflow/docs\n",
      "  Cloning https://github.com/tensorflow/docs to c:\\users\\calvario\\appdata\\local\\temp\\pip-req-build-04_lp0er\n",
      "  Resolved https://github.com/tensorflow/docs to commit f26b60228457f016fa15ffa042ba9b4f525ec04c\n",
      "  Preparing metadata (setup.py): started\n",
      "  Preparing metadata (setup.py): finished with status 'done'\n",
      "Collecting astor\n",
      "  Downloading astor-0.8.1-py2.py3-none-any.whl (27 kB)\n",
      "Requirement already satisfied: absl-py in c:\\python39\\lib\\site-packages (from tensorflow-docs==0.0.0.dev0) (1.0.0)\n",
      "Requirement already satisfied: protobuf>=3.14 in c:\\python39\\lib\\site-packages (from tensorflow-docs==0.0.0.dev0) (3.19.1)"
     ]
    },
    {
     "name": "stderr",
     "output_type": "stream",
     "text": [
      "WARNING: Ignoring invalid distribution -ip (c:\\python39\\lib\\site-packages)\n",
      "WARNING: Ignoring invalid distribution -ip (c:\\python39\\lib\\site-packages)\n",
      "  Running command git clone --filter=blob:none -q https://github.com/tensorflow/docs 'C:\\Users\\Calvario\\AppData\\Local\\Temp\\pip-req-build-04_lp0er'\n",
      "WARNING: Ignoring invalid distribution -ip (c:\\python39\\lib\\site-packages)\n"
     ]
    },
    {
     "name": "stdout",
     "output_type": "stream",
     "text": [
      "\n",
      "Collecting pyyaml\n",
      "  Downloading PyYAML-6.0-cp39-cp39-win_amd64.whl (151 kB)\n",
      "Requirement already satisfied: six in c:\\users\\calvario\\appdata\\roaming\\python\\python39\\site-packages (from absl-py->tensorflow-docs==0.0.0.dev0) (1.16.0)\n",
      "Building wheels for collected packages: tensorflow-docs\n",
      "  Building wheel for tensorflow-docs (setup.py): started\n",
      "  Building wheel for tensorflow-docs (setup.py): finished with status 'done'\n",
      "  Created wheel for tensorflow-docs: filename=tensorflow_docs-0.0.0.dev0-py3-none-any.whl size=157029 sha256=dbe249e41c65e146abf91ae0f4ab8cd03e88eec04a481ae42050f5bc96c9c0b4\n",
      "  Stored in directory: C:\\Users\\Calvario\\AppData\\Local\\Temp\\pip-ephem-wheel-cache-axuwhy11\\wheels\\fc\\f8\\3b\\5d21409a59cb1be9b1ade11f682039ced75b84de9dd6a0c8de\n",
      "Successfully built tensorflow-docs\n",
      "Installing collected packages: pyyaml, astor, tensorflow-docs\n",
      "Successfully installed astor-0.8.1 pyyaml-6.0 tensorflow-docs-0.0.0.dev0\n"
     ]
    },
    {
     "name": "stderr",
     "output_type": "stream",
     "text": [
      "WARNING: Ignoring invalid distribution -ip (c:\\python39\\lib\\site-packages)\n",
      "WARNING: Ignoring invalid distribution -ip (c:\\python39\\lib\\site-packages)\n",
      "WARNING: Ignoring invalid distribution -ip (c:\\python39\\lib\\site-packages)\n",
      "WARNING: Ignoring invalid distribution -ip (c:\\python39\\lib\\site-packages)\n",
      "WARNING: Ignoring invalid distribution -ip (c:\\python39\\lib\\site-packages)\n"
     ]
    }
   ],
   "source": [
    "!pip3 install git+https://github.com/tensorflow/docs"
   ]
  }
 ],
 "metadata": {
  "interpreter": {
   "hash": "63fd5069d213b44bf678585dea6b12cceca9941eaf7f819626cde1f2670de90d"
  },
  "kernelspec": {
   "display_name": "Python 3.9.4 64-bit",
   "language": "python",
   "name": "python3"
  },
  "language_info": {
   "codemirror_mode": {
    "name": "ipython",
    "version": 3
   },
   "file_extension": ".py",
   "mimetype": "text/x-python",
   "name": "python",
   "nbconvert_exporter": "python",
   "pygments_lexer": "ipython3",
   "version": "3.9.4"
  },
  "orig_nbformat": 4
 },
 "nbformat": 4,
 "nbformat_minor": 2
}
