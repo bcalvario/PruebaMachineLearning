{
 "cells": [
  {
   "cell_type": "markdown",
   "metadata": {},
   "source": [
    "# Pregunta 3 : Random Forest with extreme boosting\n",
    "Por favor para esta pregunta considera unicamente las filas de la tabla cuyo Publisher sea Nintendo.\n",
    "\n",
    "Por favor, construye un modelo de bosque aleatorio a partir de muestras bootstrap de la tabla.\n",
    "\n",
    "El bosque aleatorio tendrá que predecir el valor de la variable Global_Sales ‘Y’ para cada año dados las columnas: (Action Platform Adventure Puzzle Shooter Misc Sports Racing Simulation Fighting Role-Playing Strategy)\n",
    "\n",
    "Ajusta el modelo y obten Y. Despues calcula el error absoluto promedio de este modelo.\n",
    "\n",
    "Por favor escribe el error absoluto promedio del modelo aqui: 21.792384694417315"
   ]
  },
  {
   "cell_type": "code",
   "execution_count": 36,
   "metadata": {},
   "outputs": [],
   "source": [
    "import pandas as pd\n",
    "import xgboost as xg\n",
    "from sklearn.model_selection import train_test_split\n",
    "from sklearn.metrics import mean_absolute_error"
   ]
  },
  {
   "cell_type": "code",
   "execution_count": 42,
   "metadata": {},
   "outputs": [],
   "source": [
    "''' Función que crea un de bosque aleatorio, dada la base de datos\n",
    "    y editor calcula el error absoluto promedio '''\n",
    "def random_forest (df : pd.DataFrame, publisher : str) -> float:\n",
    "    subdf = df[df['Publisher'].str.contains(publisher)]\n",
    "    x = subdf.drop(['Global_Sales', 'Year', 'Publisher'], axis = 1)\n",
    "    y = subdf['Global_Sales']\n",
    "    x_train, x_test, y_train, y_test = train_test_split(x, y)\n",
    "    xgb_r = xg.XGBRegressor(objective ='reg:linear', n_estimators = 1000, max_depth = 7, subsample = .9)\n",
    "    xgb_r.fit(x_train, y_train)\n",
    "    y_pred = xgb_r.predict(x_test)\n",
    "    mae = mean_absolute_error(y_test, y_pred)\n",
    "    return(mae)"
   ]
  },
  {
   "cell_type": "code",
   "execution_count": 38,
   "metadata": {},
   "outputs": [],
   "source": [
    "df = pd.read_csv(\"Base_de_Datos.csv\")"
   ]
  },
  {
   "cell_type": "code",
   "execution_count": 39,
   "metadata": {},
   "outputs": [
    {
     "name": "stdout",
     "output_type": "stream",
     "text": [
      "[13:14:23] WARNING: C:/Users/Administrator/workspace/xgboost-win64_release_1.5.1/src/objective/regression_obj.cu:188: reg:linear is now deprecated in favor of reg:squarederror.\n"
     ]
    },
    {
     "data": {
      "text/plain": [
       "21.792384694417315"
      ]
     },
     "execution_count": 39,
     "metadata": {},
     "output_type": "execute_result"
    }
   ],
   "source": [
    "random_forest (df, 'Nintendo')"
   ]
  }
 ],
 "metadata": {
  "interpreter": {
   "hash": "63fd5069d213b44bf678585dea6b12cceca9941eaf7f819626cde1f2670de90d"
  },
  "kernelspec": {
   "display_name": "Python 3.9.4 64-bit",
   "language": "python",
   "name": "python3"
  },
  "language_info": {
   "codemirror_mode": {
    "name": "ipython",
    "version": 3
   },
   "file_extension": ".py",
   "mimetype": "text/x-python",
   "name": "python",
   "nbconvert_exporter": "python",
   "pygments_lexer": "ipython3",
   "version": "3.9.4"
  },
  "orig_nbformat": 4
 },
 "nbformat": 4,
 "nbformat_minor": 2
}
